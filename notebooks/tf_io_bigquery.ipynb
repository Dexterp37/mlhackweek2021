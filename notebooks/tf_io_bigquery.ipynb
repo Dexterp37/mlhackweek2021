{
 "cells": [
  {
   "cell_type": "markdown",
   "id": "699afa43-47e1-49b6-9119-0838cc153702",
   "metadata": {},
   "source": [
    "If I add a nested column (ping_info.end_time) it causes the kernel to restart."
   ]
  },
  {
   "cell_type": "code",
   "execution_count": 1,
   "id": "c32aadf6-c241-4bb6-a75c-917ebc754389",
   "metadata": {},
   "outputs": [
    {
     "name": "stderr",
     "output_type": "stream",
     "text": [
      "2021-09-29 22:35:25.411909: I tensorflow_io/core/kernels/cpu_check.cc:128] Your CPU supports instructions that this TensorFlow IO binary was not compiled to use: AVX2 FMA\n"
     ]
    }
   ],
   "source": [
    "import tensorflow as tf\n",
    "from tensorflow.python.framework import dtypes\n",
    "from tensorflow_io.bigquery import BigQueryClient\n",
    "from tensorflow_io.bigquery import BigQueryReadSession"
   ]
  },
  {
   "cell_type": "code",
   "execution_count": 2,
   "id": "8e580f71-dda1-4733-82c7-3ad38b4eeeac",
   "metadata": {},
   "outputs": [],
   "source": [
    "GCP_PROJECT_ID = 'dataorg-hackweek-2021'\n",
    "DATASET_GCP_PROJECT_ID = GCP_PROJECT_ID \n",
    "DATASET_ID = 'mlhackweek_search.action'"
   ]
  },
  {
   "cell_type": "code",
   "execution_count": 3,
   "id": "e5cc26ae-ee2d-4aca-b4c5-fa7e987cbb43",
   "metadata": {},
   "outputs": [
    {
     "name": "stderr",
     "output_type": "stream",
     "text": [
      "2021-09-29 22:35:25.566095: I tensorflow/core/platform/profile_utils/cpu_utils.cc:104] CPU Frequency: 2200160000 Hz\n",
      "2021-09-29 22:35:25.566489: I tensorflow/compiler/xla/service/service.cc:168] XLA service 0x55bbbfca1860 initialized for platform Host (this does not guarantee that XLA will be used). Devices:\n",
      "2021-09-29 22:35:25.566517: I tensorflow/compiler/xla/service/service.cc:176]   StreamExecutor device (0): Host, Default Version\n",
      "2021-09-29 22:35:25.566668: I tensorflow/core/common_runtime/process_util.cc:146] Creating new thread pool with default inter op setting: 2. Tune using inter_op_parallelism_threads for best performance.\n"
     ]
    }
   ],
   "source": [
    "def features_and_labels(features):\n",
    "  label = features.pop('document_id') # this is what we will train for\n",
    "  return features, label\n",
    "\n",
    "def read_dataset(client, row_restriction, batch_size=2048):\n",
    "    COL_NAMES = [\"document_id\", \"normalized_app_name\"]\n",
    "   \n",
    "    COL_TYPES = [dtypes.string, dtypes.string]\n",
    "    DATASET_GCP_PROJECT_ID, DATASET_ID, TABLE_ID,  = 'moz-fx-data-shared-prod.mlhackweek_search_stable.action_v1'.split('.')\n",
    "    print(f\"GCP_PROJECT_ID: {GCP_PROJECT_ID}\")\n",
    "    print(f\"DATASET_GCP_PROJECT_ID: {DATASET_GCP_PROJECT_ID}\")\n",
    "    print(f\"DATASET_ID: {DATASET_ID}\")\n",
    "    print(f\"TABLE_ID: {TABLE_ID}\")\n",
    "    \n",
    "    bqsession = client.read_session(\n",
    "        parent=\"projects/\" + GCP_PROJECT_ID,\n",
    "        project_id=DATASET_GCP_PROJECT_ID, \n",
    "        table_id=TABLE_ID, \n",
    "        dataset_id=DATASET_ID,\n",
    "        selected_fields=COL_NAMES, \n",
    "        output_types=COL_TYPES,\n",
    "        requested_streams=2,\n",
    "        row_restriction=row_restriction)\n",
    "    dataset = bqsession.parallel_read_rows()\n",
    "    return dataset.prefetch(1).map(features_and_labels).shuffle(batch_size*10).batch(batch_size)\n",
    "\n",
    "client = BigQueryClient()"
   ]
  },
  {
   "cell_type": "code",
   "execution_count": 4,
   "id": "16d33bca-89f1-43c8-8d05-6ee866bb9109",
   "metadata": {},
   "outputs": [
    {
     "name": "stdout",
     "output_type": "stream",
     "text": [
      "GCP_PROJECT_ID: dataorg-hackweek-2021\n",
      "DATASET_GCP_PROJECT_ID: moz-fx-data-shared-prod\n",
      "DATASET_ID: mlhackweek_search_stable\n",
      "TABLE_ID: action_v1\n",
      "(OrderedDict([('normalized_app_name', <tf.Tensor: shape=(2,), dtype=string, numpy=array([b'', b''], dtype=object)>)]), <tf.Tensor: shape=(2,), dtype=string, numpy=\n",
      "array([b'db003f3d-3478-440c-8a3b-26419cd206a7',\n",
      "       b'cf07cf48-931d-4741-8d80-63cb11dc0a8b'], dtype=object)>)\n"
     ]
    }
   ],
   "source": [
    "temp_df = read_dataset(client, 'DATE(submission_timestamp) >= DATE(\"2021-01-19\")', 2)\n",
    "for row in temp_df:\n",
    "    print(row)\n",
    "    break"
   ]
  },
  {
   "cell_type": "code",
   "execution_count": null,
   "id": "2d674364-ef1a-4a6b-a75a-91a32502af89",
   "metadata": {},
   "outputs": [],
   "source": []
  }
 ],
 "metadata": {
  "environment": {
   "name": "tf2-gpu.2-3.m80",
   "type": "gcloud",
   "uri": "gcr.io/deeplearning-platform-release/tf2-gpu.2-3:m80"
  },
  "kernelspec": {
   "display_name": "Python 3",
   "language": "python",
   "name": "python3"
  },
  "language_info": {
   "codemirror_mode": {
    "name": "ipython",
    "version": 3
   },
   "file_extension": ".py",
   "mimetype": "text/x-python",
   "name": "python",
   "nbconvert_exporter": "python",
   "pygments_lexer": "ipython3",
   "version": "3.7.10"
  }
 },
 "nbformat": 4,
 "nbformat_minor": 5
}
