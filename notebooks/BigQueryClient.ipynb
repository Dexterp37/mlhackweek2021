{
 "cells": [
  {
   "cell_type": "code",
   "execution_count": 6,
   "id": "18df3721-f4c5-495d-a275-2b418b282529",
   "metadata": {},
   "outputs": [],
   "source": [
    "import tensorflow as tf\n",
    "import tensorflow.keras as keras\n",
    "import tensorflow.keras.layers as layers\n",
    "\n",
    "from tensorflow_io.bigquery import BigQueryClient\n",
    "\n",
    "import functools"
   ]
  },
  {
   "cell_type": "code",
   "execution_count": 7,
   "id": "26cf23ce-6aa3-4692-bcba-d71728a8d985",
   "metadata": {},
   "outputs": [],
   "source": [
    "client = BigQueryClient()"
   ]
  },
  {
   "cell_type": "code",
   "execution_count": 8,
   "id": "5d719ddb-0322-4fe4-87b8-c03704972ecf",
   "metadata": {},
   "outputs": [],
   "source": [
    "GCP_PROJECT_ID = 'dataorg-hackweek-2021'\n",
    "DATASET_GCP_PROJECT_ID = GCP_PROJECT_ID # A copy of the data is saved in the user project\n",
    "DATASET_ID = 'mlhackweek_search.action' # moz-fx-data-shared-prod.mlhackweek_search_live.action_v1"
   ]
  },
  {
   "cell_type": "code",
   "execution_count": 9,
   "id": "901f5d62-0fb7-40f6-ace1-6a980d918192",
   "metadata": {},
   "outputs": [
    {
     "name": "stdout",
     "output_type": "stream",
     "text": [
      "The google.cloud.bigquery extension is already loaded. To reload it, use:\n",
      "  %reload_ext google.cloud.bigquery\n"
     ]
    }
   ],
   "source": [
    "%load_ext google.cloud.bigquery"
   ]
  },
  {
   "cell_type": "code",
   "execution_count": 10,
   "id": "1acda9c5-30d2-4d8f-ba63-95d44c81c1ac",
   "metadata": {},
   "outputs": [
    {
     "name": "stdout",
     "output_type": "stream",
     "text": [
      "Executing query with job ID: 72e60b20-f20f-42dd-8dc5-dad1b5b2334a\n",
      "Query executing: 0.36s"
     ]
    },
    {
     "name": "stderr",
     "output_type": "stream",
     "text": [
      "\n",
      "ERROR:\n",
      " 403 Access Denied: Table moz-fx-data-shared-prod:mlhackweek_search_live.action_v1: User does not have permission to query table moz-fx-data-shared-prod:mlhackweek_search_live.action_v1.\n",
      "\n",
      "(job ID: 72e60b20-f20f-42dd-8dc5-dad1b5b2334a)\n",
      "\n",
      "                  -----Query Job SQL Follows-----                   \n",
      "\n",
      "    |    .    |    .    |    .    |    .    |    .    |    .    |\n",
      "   1:SELECT\n",
      "   2:  *\n",
      "   3:FROM `moz-fx-data-shared-prod.mlhackweek_search_live.action_v1`\n",
      "   4:LIMIT 15\n",
      "    |    .    |    .    |    .    |    .    |    .    |    .    |\n"
     ]
    }
   ],
   "source": [
    "%%bigquery\n",
    "SELECT\n",
    "  *\n",
    "FROM `moz-fx-data-shared-prod.mlhackweek_search_live.action_v1`\n",
    "LIMIT 15"
   ]
  },
  {
   "cell_type": "code",
   "execution_count": null,
   "id": "7f047679-02b0-452b-a6c1-7d62a81db422",
   "metadata": {},
   "outputs": [],
   "source": []
  }
 ],
 "metadata": {
  "environment": {
   "name": "tf2-gpu.2-3.m80",
   "type": "gcloud",
   "uri": "gcr.io/deeplearning-platform-release/tf2-gpu.2-3:m80"
  },
  "kernelspec": {
   "display_name": "Python 3",
   "language": "python",
   "name": "python3"
  },
  "language_info": {
   "codemirror_mode": {
    "name": "ipython",
    "version": 3
   },
   "file_extension": ".py",
   "mimetype": "text/x-python",
   "name": "python",
   "nbconvert_exporter": "python",
   "pygments_lexer": "ipython3",
   "version": "3.7.10"
  }
 },
 "nbformat": 4,
 "nbformat_minor": 5
}
